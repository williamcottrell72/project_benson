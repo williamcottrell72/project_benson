{
 "cells": [
  {
   "cell_type": "markdown",
   "metadata": {},
   "source": [
    "**Topic:**        Project Benson   \n",
    "**Subject:**      Explore MTA turnstile data  \n",
    "**Date:**         07/03/2018  \n",
    "**Name:**         Auste Mastaviciute  \n",
    "**Worked with:**  Billy, Chelan, Alan, Joyce, Xu"
   ]
  },
  {
   "cell_type": "code",
   "execution_count": 7,
   "metadata": {},
   "outputs": [],
   "source": [
    "import numpy as np\n",
    "import pandas as pd\n",
    "import matplotlib.pyplot as plt\n",
    "\n",
    "%matplotlib inline"
   ]
  },
  {
   "cell_type": "code",
   "execution_count": 8,
   "metadata": {},
   "outputs": [],
   "source": [
    "from datetime import datetime as dt\n",
    "import datetime\n",
    "import dateutil.parser"
   ]
  },
  {
   "cell_type": "code",
   "execution_count": 18,
   "metadata": {},
   "outputs": [],
   "source": [
    "# various options in pandas\n",
    "pd.set_option('display.max_columns', None)\n",
    "pd.set_option('display.max_rows', 15)\n",
    "pd.set_option('display.precision', 3)"
   ]
  },
  {
   "cell_type": "markdown",
   "metadata": {},
   "source": [
    "**Import Data from MTA website**"
   ]
  },
  {
   "cell_type": "code",
   "execution_count": 10,
   "metadata": {},
   "outputs": [],
   "source": [
    "def fix_time(num):\n",
    "    if len(str(num)) == 2:\n",
    "        return str(num)\n",
    "    else:\n",
    "        return '0'+str(num)\n",
    "\n",
    "def get_week_nums(month,yrs_back):\n",
    "    week_list = []\n",
    "    ref_date = datetime.date(2018,6,30)\n",
    "    weeks_back = yrs_back * 52\n",
    "    for i in range(weeks_back):\n",
    "        week_shift = datetime.timedelta(-7 * i)\n",
    "        new = ref_date + week_shift\n",
    "        yr = str(new.year)[-2:]\n",
    "        mt = fix_time(new.month)\n",
    "        day = fix_time(new.day)\n",
    "        string = yr + mt + day\n",
    "        if int(mt) == month:\n",
    "            week_list.append(int(string))\n",
    "    return week_list"
   ]
  },
  {
   "cell_type": "code",
   "execution_count": 11,
   "metadata": {},
   "outputs": [
    {
     "data": {
      "text/html": [
       "<div>\n",
       "<style scoped>\n",
       "    .dataframe tbody tr th:only-of-type {\n",
       "        vertical-align: middle;\n",
       "    }\n",
       "\n",
       "    .dataframe tbody tr th {\n",
       "        vertical-align: top;\n",
       "    }\n",
       "\n",
       "    .dataframe thead th {\n",
       "        text-align: right;\n",
       "    }\n",
       "</style>\n",
       "<table border=\"1\" class=\"dataframe\">\n",
       "  <thead>\n",
       "    <tr style=\"text-align: right;\">\n",
       "      <th></th>\n",
       "      <th>C/A</th>\n",
       "      <th>UNIT</th>\n",
       "      <th>SCP</th>\n",
       "      <th>STATION</th>\n",
       "      <th>LINENAME</th>\n",
       "      <th>DIVISION</th>\n",
       "      <th>DATE</th>\n",
       "      <th>TIME</th>\n",
       "      <th>DESC</th>\n",
       "      <th>ENTRIES</th>\n",
       "      <th>EXITS</th>\n",
       "    </tr>\n",
       "  </thead>\n",
       "  <tbody>\n",
       "    <tr>\n",
       "      <th>0</th>\n",
       "      <td>A002</td>\n",
       "      <td>R051</td>\n",
       "      <td>02-00-00</td>\n",
       "      <td>59 ST</td>\n",
       "      <td>NQR456W</td>\n",
       "      <td>BMT</td>\n",
       "      <td>06/23/2018</td>\n",
       "      <td>00:00:00</td>\n",
       "      <td>REGULAR</td>\n",
       "      <td>6667150</td>\n",
       "      <td>2259901</td>\n",
       "    </tr>\n",
       "    <tr>\n",
       "      <th>1</th>\n",
       "      <td>A002</td>\n",
       "      <td>R051</td>\n",
       "      <td>02-00-00</td>\n",
       "      <td>59 ST</td>\n",
       "      <td>NQR456W</td>\n",
       "      <td>BMT</td>\n",
       "      <td>06/23/2018</td>\n",
       "      <td>04:00:00</td>\n",
       "      <td>REGULAR</td>\n",
       "      <td>6667173</td>\n",
       "      <td>2259909</td>\n",
       "    </tr>\n",
       "    <tr>\n",
       "      <th>2</th>\n",
       "      <td>A002</td>\n",
       "      <td>R051</td>\n",
       "      <td>02-00-00</td>\n",
       "      <td>59 ST</td>\n",
       "      <td>NQR456W</td>\n",
       "      <td>BMT</td>\n",
       "      <td>06/23/2018</td>\n",
       "      <td>08:00:00</td>\n",
       "      <td>REGULAR</td>\n",
       "      <td>6667189</td>\n",
       "      <td>2259938</td>\n",
       "    </tr>\n",
       "    <tr>\n",
       "      <th>3</th>\n",
       "      <td>A002</td>\n",
       "      <td>R051</td>\n",
       "      <td>02-00-00</td>\n",
       "      <td>59 ST</td>\n",
       "      <td>NQR456W</td>\n",
       "      <td>BMT</td>\n",
       "      <td>06/23/2018</td>\n",
       "      <td>12:00:00</td>\n",
       "      <td>REGULAR</td>\n",
       "      <td>6667305</td>\n",
       "      <td>2260006</td>\n",
       "    </tr>\n",
       "    <tr>\n",
       "      <th>4</th>\n",
       "      <td>A002</td>\n",
       "      <td>R051</td>\n",
       "      <td>02-00-00</td>\n",
       "      <td>59 ST</td>\n",
       "      <td>NQR456W</td>\n",
       "      <td>BMT</td>\n",
       "      <td>06/23/2018</td>\n",
       "      <td>16:00:00</td>\n",
       "      <td>REGULAR</td>\n",
       "      <td>6667534</td>\n",
       "      <td>2260066</td>\n",
       "    </tr>\n",
       "  </tbody>\n",
       "</table>\n",
       "</div>"
      ],
      "text/plain": [
       "    C/A  UNIT       SCP STATION LINENAME DIVISION        DATE      TIME  \\\n",
       "0  A002  R051  02-00-00   59 ST  NQR456W      BMT  06/23/2018  00:00:00   \n",
       "1  A002  R051  02-00-00   59 ST  NQR456W      BMT  06/23/2018  04:00:00   \n",
       "2  A002  R051  02-00-00   59 ST  NQR456W      BMT  06/23/2018  08:00:00   \n",
       "3  A002  R051  02-00-00   59 ST  NQR456W      BMT  06/23/2018  12:00:00   \n",
       "4  A002  R051  02-00-00   59 ST  NQR456W      BMT  06/23/2018  16:00:00   \n",
       "\n",
       "      DESC  ENTRIES  \\\n",
       "0  REGULAR  6667150   \n",
       "1  REGULAR  6667173   \n",
       "2  REGULAR  6667189   \n",
       "3  REGULAR  6667305   \n",
       "4  REGULAR  6667534   \n",
       "\n",
       "   EXITS                                                                 \n",
       "0                                            2259901                     \n",
       "1                                            2259909                     \n",
       "2                                            2259938                     \n",
       "3                                            2260006                     \n",
       "4                                            2260066                     "
      ]
     },
     "execution_count": 11,
     "metadata": {},
     "output_type": "execute_result"
    }
   ],
   "source": [
    "def scrape(week_nums):\n",
    "    \"\"\"Gets the data from MTA website and loads it into a pandas DataFrame\"\"\"\n",
    "    url = 'http://web.mta.info/developers/data/nyct/turnstile/turnstile_{}.txt'\n",
    "    dfs = []\n",
    "    for week_num in week_nums:\n",
    "        file_url = url.format(week_num)\n",
    "        dfs.append(pd.read_csv(file_url))\n",
    "    return pd.concat(dfs)\n",
    "\n",
    "week_nums = get_week_nums(6, 3)\n",
    "turnstiles_df = scrape(week_nums)\n",
    "turnstiles_df.head()"
   ]
  },
  {
   "cell_type": "markdown",
   "metadata": {},
   "source": [
    "**Data Formating**"
   ]
  },
  {
   "cell_type": "code",
   "execution_count": 12,
   "metadata": {
    "scrolled": true
   },
   "outputs": [
    {
     "data": {
      "text/plain": [
       "Index(['C/A', 'UNIT', 'SCP', 'STATION', 'LINENAME', 'DIVISION', 'DATE', 'TIME',\n",
       "       'DESC', 'ENTRIES',\n",
       "       'EXITS                                                               '],\n",
       "      dtype='object')"
      ]
     },
     "execution_count": 12,
     "metadata": {},
     "output_type": "execute_result"
    }
   ],
   "source": [
    "turnstiles_df.columns"
   ]
  },
  {
   "cell_type": "code",
   "execution_count": 13,
   "metadata": {},
   "outputs": [
    {
     "data": {
      "text/plain": [
       "Index(['C/A', 'UNIT', 'SCP', 'STATION', 'LINENAME', 'DIVISION', 'DATE', 'TIME',\n",
       "       'DESC', 'ENTRIES', 'EXITS'],\n",
       "      dtype='object')"
      ]
     },
     "execution_count": 13,
     "metadata": {},
     "output_type": "execute_result"
    }
   ],
   "source": [
    "#Trim the names of the columns from all the unneccesary white space\n",
    "turnstiles_df.columns = turnstiles_df.columns.str.strip()\n",
    "turnstiles_df.columns"
   ]
  },
  {
   "cell_type": "code",
   "execution_count": 14,
   "metadata": {},
   "outputs": [],
   "source": [
    "#Merge the DATE and TIME columns and format as DateTime rather than string\n",
    "turnstiles_df['DATETIME'] = pd.to_datetime(turnstiles_df['DATE'] +' '+ turnstiles_df['TIME'], infer_datetime_format=True)\n"
   ]
  },
  {
   "cell_type": "code",
   "execution_count": 15,
   "metadata": {},
   "outputs": [],
   "source": [
    "#Add WEEKDAY column\n",
    "turnstiles_df['WEEKDAY'] = turnstiles_df['DATETIME'].dt.weekday_name\n",
    "#turnstiles_df.head()\n"
   ]
  },
  {
   "cell_type": "markdown",
   "metadata": {},
   "source": [
    "**Data Exploration & Cleaning**"
   ]
  },
  {
   "cell_type": "code",
   "execution_count": 16,
   "metadata": {},
   "outputs": [
    {
     "name": "stdout",
     "output_type": "stream",
     "text": [
      "         C/A  UNIT       SCP    STATION    WEEKDAY            DATETIME  EXITS\n",
      "431549  H032  R295  00-05-00  WILSON AV   Thursday 2016-06-02 00:00:00      2\n",
      "431557  H032  R295  00-05-00  WILSON AV   Thursday 2016-06-02 08:00:00      2\n",
      "201442  B020  R263  00-06-01   AVENUE H     Monday 2016-05-30 12:00:00      2\n",
      "431735  H032  R295  00-05-00  WILSON AV  Wednesday 2016-06-01 16:00:00      2\n",
      "431739  H032  R295  00-05-00  WILSON AV  Wednesday 2016-06-01 20:00:00      2 \n",
      "\n",
      "Need to remove duplicates stage\n"
     ]
    }
   ],
   "source": [
    "#Check for duplicates\n",
    "duplicate_check = turnstiles_df.groupby(['C/A', 'UNIT', 'SCP', 'STATION', 'WEEKDAY','DATETIME']).EXITS.count().reset_index().sort_values(by='EXITS', ascending = False)\n",
    "print(duplicate_check.head(5),'\\n')\n",
    "print('Need to remove duplicates')\n"
   ]
  },
  {
   "cell_type": "code",
   "execution_count": 19,
   "metadata": {},
   "outputs": [
    {
     "data": {
      "text/html": [
       "<div>\n",
       "<style scoped>\n",
       "    .dataframe tbody tr th:only-of-type {\n",
       "        vertical-align: middle;\n",
       "    }\n",
       "\n",
       "    .dataframe tbody tr th {\n",
       "        vertical-align: top;\n",
       "    }\n",
       "\n",
       "    .dataframe thead th {\n",
       "        text-align: right;\n",
       "    }\n",
       "</style>\n",
       "<table border=\"1\" class=\"dataframe\">\n",
       "  <thead>\n",
       "    <tr style=\"text-align: right;\">\n",
       "      <th></th>\n",
       "      <th>C/A</th>\n",
       "      <th>UNIT</th>\n",
       "      <th>SCP</th>\n",
       "      <th>STATION</th>\n",
       "      <th>WEEKDAY</th>\n",
       "      <th>DATETIME</th>\n",
       "      <th>EXITS</th>\n",
       "    </tr>\n",
       "  </thead>\n",
       "  <tbody>\n",
       "    <tr>\n",
       "      <th>0</th>\n",
       "      <td>A002</td>\n",
       "      <td>R051</td>\n",
       "      <td>02-00-00</td>\n",
       "      <td>59 ST</td>\n",
       "      <td>Friday</td>\n",
       "      <td>2016-06-03 00:00:00</td>\n",
       "      <td>1</td>\n",
       "    </tr>\n",
       "    <tr>\n",
       "      <th>1698635</th>\n",
       "      <td>R147</td>\n",
       "      <td>R033</td>\n",
       "      <td>04-00-03</td>\n",
       "      <td>TIMES SQ-42 ST</td>\n",
       "      <td>Tuesday</td>\n",
       "      <td>2018-06-26 20:00:00</td>\n",
       "      <td>1</td>\n",
       "    </tr>\n",
       "    <tr>\n",
       "      <th>1698628</th>\n",
       "      <td>R147</td>\n",
       "      <td>R033</td>\n",
       "      <td>04-00-03</td>\n",
       "      <td>TIMES SQ-42 ST</td>\n",
       "      <td>Tuesday</td>\n",
       "      <td>2018-06-19 16:00:00</td>\n",
       "      <td>1</td>\n",
       "    </tr>\n",
       "    <tr>\n",
       "      <th>1698629</th>\n",
       "      <td>R147</td>\n",
       "      <td>R033</td>\n",
       "      <td>04-00-03</td>\n",
       "      <td>TIMES SQ-42 ST</td>\n",
       "      <td>Tuesday</td>\n",
       "      <td>2018-06-19 20:00:00</td>\n",
       "      <td>1</td>\n",
       "    </tr>\n",
       "    <tr>\n",
       "      <th>1698630</th>\n",
       "      <td>R147</td>\n",
       "      <td>R033</td>\n",
       "      <td>04-00-03</td>\n",
       "      <td>TIMES SQ-42 ST</td>\n",
       "      <td>Tuesday</td>\n",
       "      <td>2018-06-26 00:00:00</td>\n",
       "      <td>1</td>\n",
       "    </tr>\n",
       "    <tr>\n",
       "      <th>1698631</th>\n",
       "      <td>R147</td>\n",
       "      <td>R033</td>\n",
       "      <td>04-00-03</td>\n",
       "      <td>TIMES SQ-42 ST</td>\n",
       "      <td>Tuesday</td>\n",
       "      <td>2018-06-26 04:00:00</td>\n",
       "      <td>1</td>\n",
       "    </tr>\n",
       "    <tr>\n",
       "      <th>1698632</th>\n",
       "      <td>R147</td>\n",
       "      <td>R033</td>\n",
       "      <td>04-00-03</td>\n",
       "      <td>TIMES SQ-42 ST</td>\n",
       "      <td>Tuesday</td>\n",
       "      <td>2018-06-26 08:00:00</td>\n",
       "      <td>1</td>\n",
       "    </tr>\n",
       "    <tr>\n",
       "      <th>...</th>\n",
       "      <td>...</td>\n",
       "      <td>...</td>\n",
       "      <td>...</td>\n",
       "      <td>...</td>\n",
       "      <td>...</td>\n",
       "      <td>...</td>\n",
       "      <td>...</td>\n",
       "    </tr>\n",
       "    <tr>\n",
       "      <th>849316</th>\n",
       "      <td>N139</td>\n",
       "      <td>R355</td>\n",
       "      <td>00-00-00</td>\n",
       "      <td>111 ST</td>\n",
       "      <td>Thursday</td>\n",
       "      <td>2017-06-01 05:00:00</td>\n",
       "      <td>1</td>\n",
       "    </tr>\n",
       "    <tr>\n",
       "      <th>849317</th>\n",
       "      <td>N139</td>\n",
       "      <td>R355</td>\n",
       "      <td>00-00-00</td>\n",
       "      <td>111 ST</td>\n",
       "      <td>Thursday</td>\n",
       "      <td>2017-06-01 09:00:00</td>\n",
       "      <td>1</td>\n",
       "    </tr>\n",
       "    <tr>\n",
       "      <th>849318</th>\n",
       "      <td>N139</td>\n",
       "      <td>R355</td>\n",
       "      <td>00-00-00</td>\n",
       "      <td>111 ST</td>\n",
       "      <td>Thursday</td>\n",
       "      <td>2017-06-01 13:00:00</td>\n",
       "      <td>1</td>\n",
       "    </tr>\n",
       "    <tr>\n",
       "      <th>849319</th>\n",
       "      <td>N139</td>\n",
       "      <td>R355</td>\n",
       "      <td>00-00-00</td>\n",
       "      <td>111 ST</td>\n",
       "      <td>Thursday</td>\n",
       "      <td>2017-06-01 17:00:00</td>\n",
       "      <td>1</td>\n",
       "    </tr>\n",
       "    <tr>\n",
       "      <th>849320</th>\n",
       "      <td>N139</td>\n",
       "      <td>R355</td>\n",
       "      <td>00-00-00</td>\n",
       "      <td>111 ST</td>\n",
       "      <td>Thursday</td>\n",
       "      <td>2017-06-01 21:00:00</td>\n",
       "      <td>1</td>\n",
       "    </tr>\n",
       "    <tr>\n",
       "      <th>849321</th>\n",
       "      <td>N139</td>\n",
       "      <td>R355</td>\n",
       "      <td>00-00-00</td>\n",
       "      <td>111 ST</td>\n",
       "      <td>Thursday</td>\n",
       "      <td>2017-06-08 01:00:00</td>\n",
       "      <td>1</td>\n",
       "    </tr>\n",
       "    <tr>\n",
       "      <th>2547948</th>\n",
       "      <td>TRAM2</td>\n",
       "      <td>R469</td>\n",
       "      <td>00-05-01</td>\n",
       "      <td>RIT-ROOSEVELT</td>\n",
       "      <td>Wednesday</td>\n",
       "      <td>2017-06-21 21:00:00</td>\n",
       "      <td>1</td>\n",
       "    </tr>\n",
       "  </tbody>\n",
       "</table>\n",
       "<p>2547949 rows × 7 columns</p>\n",
       "</div>"
      ],
      "text/plain": [
       "           C/A  UNIT       SCP         STATION    WEEKDAY            DATETIME  \\\n",
       "0         A002  R051  02-00-00           59 ST     Friday 2016-06-03 00:00:00   \n",
       "1698635   R147  R033  04-00-03  TIMES SQ-42 ST    Tuesday 2018-06-26 20:00:00   \n",
       "1698628   R147  R033  04-00-03  TIMES SQ-42 ST    Tuesday 2018-06-19 16:00:00   \n",
       "1698629   R147  R033  04-00-03  TIMES SQ-42 ST    Tuesday 2018-06-19 20:00:00   \n",
       "1698630   R147  R033  04-00-03  TIMES SQ-42 ST    Tuesday 2018-06-26 00:00:00   \n",
       "1698631   R147  R033  04-00-03  TIMES SQ-42 ST    Tuesday 2018-06-26 04:00:00   \n",
       "1698632   R147  R033  04-00-03  TIMES SQ-42 ST    Tuesday 2018-06-26 08:00:00   \n",
       "...        ...   ...       ...             ...        ...                 ...   \n",
       "849316    N139  R355  00-00-00          111 ST   Thursday 2017-06-01 05:00:00   \n",
       "849317    N139  R355  00-00-00          111 ST   Thursday 2017-06-01 09:00:00   \n",
       "849318    N139  R355  00-00-00          111 ST   Thursday 2017-06-01 13:00:00   \n",
       "849319    N139  R355  00-00-00          111 ST   Thursday 2017-06-01 17:00:00   \n",
       "849320    N139  R355  00-00-00          111 ST   Thursday 2017-06-01 21:00:00   \n",
       "849321    N139  R355  00-00-00          111 ST   Thursday 2017-06-08 01:00:00   \n",
       "2547948  TRAM2  R469  00-05-01   RIT-ROOSEVELT  Wednesday 2017-06-21 21:00:00   \n",
       "\n",
       "         EXITS  \n",
       "0            1  \n",
       "1698635      1  \n",
       "1698628      1  \n",
       "1698629      1  \n",
       "1698630      1  \n",
       "1698631      1  \n",
       "1698632      1  \n",
       "...        ...  \n",
       "849316       1  \n",
       "849317       1  \n",
       "849318       1  \n",
       "849319       1  \n",
       "849320       1  \n",
       "849321       1  \n",
       "2547948      1  \n",
       "\n",
       "[2547949 rows x 7 columns]"
      ]
     },
     "execution_count": 19,
     "metadata": {},
     "output_type": "execute_result"
    }
   ],
   "source": [
    "#Remove duplicates\n",
    "turnstiles_df.sort_values(['C/A', 'UNIT', 'SCP', 'STATION', 'WEEKDAY','DATETIME'], inplace = True, ascending = False)\n",
    "turnstiles_df.drop_duplicates(subset = ['C/A', 'UNIT', 'SCP', 'STATION', 'WEEKDAY','DATETIME'], inplace = True)\n",
    "\n",
    "#Check if duplicates are gone\n",
    "turnstiles_df.groupby(['C/A', 'UNIT', 'SCP', 'STATION', 'WEEKDAY','DATETIME']).EXITS.count().reset_index().sort_values(by='EXITS', ascending = False)\n"
   ]
  },
  {
   "cell_type": "code",
   "execution_count": 30,
   "metadata": {},
   "outputs": [
    {
     "data": {
      "text/plain": [
       "STATION\n",
       "34 ST-PENN STA     53530\n",
       "FULTON ST          52604\n",
       "23 ST              38708\n",
       "GRD CNTRL-42 ST    35133\n",
       "CANAL ST           32089\n",
       "34 ST-HERALD SQ    29583\n",
       "CHAMBERS ST        29530\n",
       "                   ...  \n",
       "VAN SICLEN AVE      1623\n",
       "JUNIUS ST           1562\n",
       "NASSAU ST           1547\n",
       "NORWOOD AV          1544\n",
       "PENNSYLVANIA AV     1508\n",
       "SUTTER AV           1097\n",
       "CLEVELAND ST        1092\n",
       "Name: EXITS, Length: 380, dtype: int64"
      ]
     },
     "execution_count": 30,
     "metadata": {},
     "output_type": "execute_result"
    }
   ],
   "source": []
  },
  {
   "cell_type": "code",
   "execution_count": 37,
   "metadata": {},
   "outputs": [
    {
     "name": "stdout",
     "output_type": "stream",
     "text": [
      "Preferably, should remove the values with non-exact hour times (where min:sec is not 00:00)\n"
     ]
    },
    {
     "data": {
      "image/png": "[encoded data removed]",
      "text/plain": [
       "<matplotlib.figure.Figure at 0x111fdd908>"
      ]
     },
     "metadata": {},
     "output_type": "display_data"
    }
   ],
   "source": [
    "#Understand the distribution among different times\n",
    "time_dist = turnstiles_df.groupby([turnstiles_df['DATETIME'].dt.time])['EXITS'].count().sort_values(ascending=False)\n",
    "time_dist.plot(figsize = (10, 5), xticks = ['00:00:00', '04:00:00', '08:00:00', '12:00:00', '16:00:00', '20:00:00'])\n",
    "print('Preferably, should remove the values with non-exact hour times (where min:sec is not 00:00)')"
   ]
  },
  {
   "cell_type": "code",
   "execution_count": null,
   "metadata": {},
   "outputs": [],
   "source": [
    "#Remove timestamps with non-zero minutes and seconds\n",
    "\n",
    "\n"
   ]
  },
  {
   "cell_type": "code",
   "execution_count": 32,
   "metadata": {},
   "outputs": [],
   "source": [
    "#Sort the data frame by DATETIME column\n",
    "turnstiles_df = turnstiles_df.sort_values(by = ['C/A', 'UNIT', 'SCP', 'STATION', 'DATETIME'])\n",
    "#turnstiles_df.head(15)\n",
    "\n",
    "#Add two new columns with Previous Datetime a record was taken and the actual record in PREV_EXITS\n",
    "turnstiles_df['PREV_DATETIME'] = turnstiles_df['DATETIME'].shift()\n",
    "turnstiles_df['PREV_EXITS'] = turnstiles_df['EXITS'].shift()\n",
    "#turnstiles_df.head()\n",
    "\n",
    "#Add EXITS_DIFF column - Transform the Exits column from accummulative to actual per time period\n",
    "turnstiles_df['EXITS_DIFF'] = turnstiles_df['EXITS'].sub(turnstiles_df['PREV_EXITS'])\n",
    "#turnstiles_df\n",
    "\n",
    "#Add TIME_DIFF column to evaluate how frequently the records are being taken\n",
    "turnstiles_df['TIME_DIFF'] = turnstiles_df['DATETIME'].sub(turnstiles_df['PREV_DATETIME'])\n",
    "#turnstiles_df.head()"
   ]
  },
  {
   "cell_type": "markdown",
   "metadata": {},
   "source": [
    "**More formatting**"
   ]
  },
  {
   "cell_type": "code",
   "execution_count": null,
   "metadata": {},
   "outputs": [],
   "source": [
    "#Explore the distribution of EXITS_DIFF column\n",
    "exits_diff = sorted(list(turnstiles_df['EXITS_DIFF'].values))\n",
    "#print(exits_diff[:10])\n",
    "#print(exits_diff[-10:])\n",
    "\n",
    "\n",
    "#Remove rows with NaN values in previous exits column\n",
    "turnstiles_df.dropna(axis = 0, inplace = True)\n",
    "turnstiles_df.head()\n"
   ]
  },
  {
   "cell_type": "markdown",
   "metadata": {},
   "source": [
    "**More cleaning**"
   ]
  },
  {
   "cell_type": "code",
   "execution_count": null,
   "metadata": {},
   "outputs": [],
   "source": [
    "#Handle negative or extreme EXITS_DIFF values\n",
    "\n"
   ]
  },
  {
   "cell_type": "code",
   "execution_count": 41,
   "metadata": {},
   "outputs": [],
   "source": [
    "#Shorten the data frame\n",
    "turnstile_short = turnstiles_df[['STATION', 'WEEKDAY','DATETIME', 'EXITS_DIFF', 'TIME_DIFF']]\n",
    "turnstile_short.loc[turnstile_short['STATION'] == '111 ST'].head(10)"
   ]
  },
  {
   "cell_type": "code",
   "execution_count": 49,
   "metadata": {},
   "outputs": [
    {
     "data": {
      "text/html": [
       "<div>\n",
       "<style scoped>\n",
       "    .dataframe tbody tr th:only-of-type {\n",
       "        vertical-align: middle;\n",
       "    }\n",
       "\n",
       "    .dataframe tbody tr th {\n",
       "        vertical-align: top;\n",
       "    }\n",
       "\n",
       "    .dataframe thead th {\n",
       "        text-align: right;\n",
       "    }\n",
       "</style>\n",
       "<table border=\"1\" class=\"dataframe\">\n",
       "  <thead>\n",
       "    <tr style=\"text-align: right;\">\n",
       "      <th></th>\n",
       "      <th>STATION</th>\n",
       "      <th>WEEKDAY</th>\n",
       "      <th>DATETIME</th>\n",
       "      <th>EXITS_DIFF</th>\n",
       "      <th>TIME_DIFF</th>\n",
       "    </tr>\n",
       "  </thead>\n",
       "  <tbody>\n",
       "  </tbody>\n",
       "</table>\n",
       "</div>"
      ],
      "text/plain": [
       "Empty DataFrame\n",
       "Columns: [STATION, WEEKDAY, DATETIME, EXITS_DIFF, TIME_DIFF]\n",
       "Index: []"
      ]
     },
     "execution_count": 49,
     "metadata": {},
     "output_type": "execute_result"
    }
   ],
   "source": [
    "import re\n",
    "\n",
    "#Remove non-New York stations (start with PTH)\n",
    "turnstile_short.loc[turnstile_short['STATION'] == r'PTH+'].head(10)\n",
    "\n",
    "#turnstile_short.groupby(['STATION'])['EXITS'].count().sort_values(ascending = False)"
   ]
  },
  {
   "cell_type": "code",
   "execution_count": null,
   "metadata": {},
   "outputs": [],
   "source": []
  }
 ],
 "metadata": {
  "kernelspec": {
   "display_name": "Python 3",
   "language": "python",
   "name": "python3"
  },
  "language_info": {
   "codemirror_mode": {
    "name": "ipython",
    "version": 3
   },
   "file_extension": ".py",
   "mimetype": "text/x-python",
   "name": "python",
   "nbconvert_exporter": "python",
   "pygments_lexer": "ipython3",
   "version": "3.6.5"
  }
 },
 "nbformat": 4,
 "nbformat_minor": 2
}
